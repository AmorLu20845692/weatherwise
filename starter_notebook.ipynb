{
 "cells": [
  {
   "cell_type": "markdown",
   "metadata": {
    "id": "view-in-github",
    "colab_type": "text"
   },
   "source": [
    "<a href=\"https://colab.research.google.com/github/michael-borck/weatherwise-template/blob/main/starter_notebook.ipynb\" target=\"_parent\"><img src=\"https://colab.research.google.com/assets/colab-badge.svg\" alt=\"Open In Colab\"/></a>"
   ]
  },
  {
   "cell_type": "markdown",
   "id": "72e78a05",
   "metadata": {
    "id": "72e78a05"
   },
   "source": [
    "# 🌦️ WeatherWise – Starter Notebook\n",
    "\n",
    "Welcome to your **WeatherWise** project notebook! This scaffold is designed to help you build your weather advisor app using Python, visualisations, and AI-enhanced development.\n",
    "\n",
    "---\n",
    "\n",
    "📄 **Full Assignment Specification**  \n",
    "See [`ASSIGNMENT.md`](ASSIGNMENT.md) or check the LMS for full details.\n",
    "\n",
    "📝 **Quick Refresher**  \n",
    "A one-page summary is available in [`resources/assignment-summary.md`](resources/assignment-summary.md).\n",
    "\n",
    "---\n",
    "\n",
    "🧠 **This Notebook Structure is Optional**  \n",
    "You’re encouraged to reorganise, rename sections, or remove scaffold cells if you prefer — as long as your final version meets the requirements.\n",
    "\n",
    "✅ You may delete this note before submission.\n",
    "\n"
   ]
  },
  {
   "cell_type": "markdown",
   "id": "fa8c7f6c",
   "metadata": {
    "id": "fa8c7f6c"
   },
   "source": [
    "## 🧰 Setup and Imports\n",
    "\n",
    "This section imports commonly used packages and installs any additional tools used in the project.\n",
    "\n",
    "- You may not need all of these unless you're using specific features (e.g. visualisations, advanced prompting).\n",
    "- The notebook assumes the following packages are **pre-installed** in the provided environment or installable via pip:\n",
    "  - `requests`, `matplotlib`, `pyinputplus`\n",
    "  - `fetch-my-weather` (for accessing weather data easily)\n",
    "  - `hands-on-ai` (for AI logging, comparisons, or prompting tools)\n",
    "\n",
    "If you're running this notebook in **Google Colab**, uncomment the following lines to install the required packages.\n"
   ]
  },
  {
   "cell_type": "code",
   "execution_count": null,
   "id": "70c3f3f1",
   "metadata": {
    "id": "70c3f3f1"
   },
   "outputs": [],
   "source": [
    "# 🧪 Optional packages — uncomment if needed in Colab or JupyterHub\n",
    "!pip install fetch-my-weather\n",
    "!pip install hands-on-ai\n"
   ]
  },
  {
   "cell_type": "code",
   "source": [
    "import os\n",
    "\n",
    "os.environ['HANDS_ON_AI_SERVER'] = 'http://ollama.serveur.au'\n",
    "os.environ['HANDS_ON_AI_MODEL'] = 'granite3.2'\n",
    "os.environ['HANDS_ON_AI_API_KEY'] = input('Enter your API key: ')"
   ],
   "metadata": {
    "id": "B2JKlJfrGgIb"
   },
   "id": "B2JKlJfrGgIb",
   "execution_count": null,
   "outputs": []
  },
  {
   "cell_type": "markdown",
   "id": "59ae7543",
   "metadata": {
    "id": "59ae7543"
   },
   "source": [
    "## 📦 Setup and Configuration\n",
    "Import required packages and setup environment."
   ]
  },
  {
   "cell_type": "code",
   "execution_count": null,
   "id": "f1dd051e",
   "metadata": {
    "id": "f1dd051e"
   },
   "outputs": [],
   "source": [
    "import requests\n",
    "import matplotlib.pyplot as plt\n",
    "import pyinputplus as pyip\n",
    "# ✅ Import after installing (if needed)\n",
    "from fetch_my_weather import get_weather\n",
    "from hands_on_ai.chat import get_response\n",
    "\n",
    "# Add any other setup code here"
   ]
  },
  {
   "cell_type": "markdown",
   "id": "f736ade3",
   "metadata": {
    "id": "f736ade3"
   },
   "source": [
    "## 🌤️ Weather Data Functions"
   ]
  },
  {
   "cell_type": "code",
   "execution_count": null,
   "id": "7a2c7cd0",
   "metadata": {
    "id": "7a2c7cd0"
   },
   "outputs": [],
   "source": "import json\nfrom datetime import datetime, timedelta\n\ndef get_weather_data(location, forecast_days=5):\n    \"\"\"\n    Retrieve weather data for a specified location using wttr.in API.\n\n    Args:\n        location (str): City or location name\n        forecast_days (int): Number of days to forecast (1-5)\n\n    Returns:\n        dict: Weather data including current conditions and forecast\n    \"\"\"\n    try:\n        # Use wttr.in API with JSON format\n        url = f\"https://wttr.in/{location}?format=j1\"\n        response = requests.get(url, timeout=10)\n        \n        if response.status_code == 200:\n            data = response.json()\n            \n            # Extract current weather\n            current = data.get('current_condition', [{}])[0]\n            \n            # Extract forecast data (limit to requested days)\n            forecast = data.get('weather', [])[:forecast_days]\n            \n            # Process and structure the data\n            processed_data = {\n                'location': location,\n                'current': {\n                    'temperature': int(current.get('temp_C', 0)),\n                    'feels_like': int(current.get('FeelsLikeC', 0)),\n                    'humidity': int(current.get('humidity', 0)),\n                    'description': current.get('weatherDesc', [{}])[0].get('value', 'Unknown'),\n                    'wind_speed': int(current.get('windspeedKmph', 0)),\n                    'wind_direction': current.get('winddir16Point', 'N'),\n                    'pressure': int(current.get('pressure', 0)),\n                    'visibility': int(current.get('visibility', 0))\n                },\n                'forecast': []\n            }\n            \n            # Process forecast data\n            for day_data in forecast:\n                date = day_data.get('date', '')\n                \n                # Get min/max temperatures from hourly data\n                hourly = day_data.get('hourly', [])\n                temps = [int(h.get('tempC', 0)) for h in hourly]\n                precip = [float(h.get('precipMM', 0)) for h in hourly]\n                \n                day_info = {\n                    'date': date,\n                    'max_temp': max(temps) if temps else 0,\n                    'min_temp': min(temps) if temps else 0,\n                    'avg_temp': sum(temps) // len(temps) if temps else 0,\n                    'precipitation': max(precip) if precip else 0,\n                    'description': day_data.get('hourly', [{}])[0].get('weatherDesc', [{}])[0].get('value', 'Unknown'),\n                    'hourly_temps': temps,\n                    'hourly_precip': precip\n                }\n                processed_data['forecast'].append(day_info)\n            \n            return processed_data\n            \n        else:\n            return {\n                'error': f'Failed to fetch weather data for {location}. Status code: {response.status_code}',\n                'location': location,\n                'current': {},\n                'forecast': []\n            }\n            \n    except requests.exceptions.RequestException as e:\n        return {\n            'error': f'Network error: {str(e)}',\n            'location': location,\n            'current': {},\n            'forecast': []\n        }\n    except Exception as e:\n        return {\n            'error': f'Error processing weather data: {str(e)}',\n            'location': location,\n            'current': {},\n            'forecast': []\n        }"
  },
  {
   "cell_type": "markdown",
   "id": "8a744fdc",
   "metadata": {
    "id": "8a744fdc"
   },
   "source": [
    "## 📊 Visualisation Functions"
   ]
  },
  {
   "cell_type": "code",
   "execution_count": null,
   "id": "9dc3bf85",
   "metadata": {
    "id": "9dc3bf85"
   },
   "outputs": [],
   "source": "import matplotlib.pyplot as plt\nimport matplotlib.dates as mdates\nfrom datetime import datetime\n\ndef create_temperature_visualisation(weather_data, output_type='display'):\n    \"\"\"\n    Create visualisation of temperature data.\n\n    Args:\n        weather_data (dict): The processed weather data\n        output_type (str): Either 'display' to show in notebook or 'figure' to return the figure\n\n    Returns:\n        If output_type is 'figure', returns the matplotlib figure object\n        Otherwise, displays the visualisation in the notebook\n    \"\"\"\n    if 'error' in weather_data:\n        print(f\"Cannot create visualization: {weather_data['error']}\")\n        return None\n    \n    fig, ax = plt.subplots(figsize=(12, 6))\n    \n    # Prepare data for plotting\n    dates = []\n    max_temps = []\n    min_temps = []\n    avg_temps = []\n    \n    for day in weather_data['forecast']:\n        try:\n            date_obj = datetime.strptime(day['date'], '%Y-%m-%d')\n            dates.append(date_obj)\n            max_temps.append(day['max_temp'])\n            min_temps.append(day['min_temp'])\n            avg_temps.append(day['avg_temp'])\n        except ValueError:\n            continue\n    \n    if not dates:\n        print(\"No valid date data found for visualization\")\n        return None\n    \n    # Create the plot\n    ax.plot(dates, max_temps, 'r-o', label='Max Temperature', linewidth=2, markersize=6)\n    ax.plot(dates, min_temps, 'b-o', label='Min Temperature', linewidth=2, markersize=6)\n    ax.plot(dates, avg_temps, 'g-o', label='Average Temperature', linewidth=2, markersize=6)\n    \n    # Fill between max and min temperatures\n    ax.fill_between(dates, min_temps, max_temps, alpha=0.3, color='orange')\n    \n    # Format the plot\n    ax.set_title(f'Temperature Forecast for {weather_data[\"location\"]}', fontsize=16, fontweight='bold')\n    ax.set_xlabel('Date', fontsize=12)\n    ax.set_ylabel('Temperature (°C)', fontsize=12)\n    ax.grid(True, alpha=0.3)\n    ax.legend(fontsize=10)\n    \n    # Format dates on x-axis\n    ax.xaxis.set_major_formatter(mdates.DateFormatter('%m/%d'))\n    ax.xaxis.set_major_locator(mdates.DayLocator())\n    plt.xticks(rotation=45)\n    \n    # Add current temperature indicator\n    current_temp = weather_data['current'].get('temperature', 0)\n    if current_temp > 0:\n        ax.axhline(y=current_temp, color='red', linestyle='--', alpha=0.7, \n                  label=f'Current: {current_temp}°C')\n        ax.legend(fontsize=10)\n    \n    plt.tight_layout()\n    \n    if output_type == 'figure':\n        return fig\n    else:\n        plt.show()\n        return None"
  },
  {
   "cell_type": "code",
   "source": "def create_precipitation_visualisation(weather_data, output_type='display'):\n    \"\"\"\n    Create visualisation of precipitation data.\n\n    Args:\n        weather_data (dict): The processed weather data\n        output_type (str): Either 'display' to show in notebook or 'figure' to return the figure\n\n    Returns:\n        If output_type is 'figure', returns the matplotlib figure object\n        Otherwise, displays the visualisation in the notebook\n    \"\"\"\n    if 'error' in weather_data:\n        print(f\"Cannot create visualization: {weather_data['error']}\")\n        return None\n    \n    fig, (ax1, ax2) = plt.subplots(2, 1, figsize=(12, 10))\n    \n    # Prepare data for plotting\n    dates = []\n    precipitation = []\n    \n    for day in weather_data['forecast']:\n        try:\n            date_obj = datetime.strptime(day['date'], '%Y-%m-%d')\n            dates.append(date_obj)\n            precipitation.append(day['precipitation'])\n        except ValueError:\n            continue\n    \n    if not dates:\n        print(\"No valid date data found for visualization\")\n        return None\n    \n    # Top plot: Daily precipitation bar chart\n    bars = ax1.bar(dates, precipitation, color='skyblue', alpha=0.7, edgecolor='navy')\n    ax1.set_title(f'Precipitation Forecast for {weather_data[\"location\"]}', fontsize=16, fontweight='bold')\n    ax1.set_ylabel('Precipitation (mm)', fontsize=12)\n    ax1.grid(True, alpha=0.3, axis='y')\n    \n    # Add value labels on bars\n    for bar, precip in zip(bars, precipitation):\n        if precip > 0:\n            ax1.text(bar.get_x() + bar.get_width()/2, bar.get_height() + 0.1,\n                    f'{precip:.1f}mm', ha='center', va='bottom', fontsize=10)\n    \n    # Format dates on x-axis\n    ax1.xaxis.set_major_formatter(mdates.DateFormatter('%m/%d'))\n    ax1.xaxis.set_major_locator(mdates.DayLocator())\n    \n    # Bottom plot: Hourly precipitation for first day (if available)\n    if weather_data['forecast'] and weather_data['forecast'][0].get('hourly_precip'):\n        hourly_precip = weather_data['forecast'][0]['hourly_precip']\n        hours = list(range(0, len(hourly_precip) * 3, 3))  # Assuming 3-hour intervals\n        \n        ax2.plot(hours, hourly_precip, 'o-', color='blue', linewidth=2, markersize=6)\n        ax2.fill_between(hours, hourly_precip, alpha=0.3, color='lightblue')\n        ax2.set_title(f'Hourly Precipitation - {weather_data[\"forecast\"][0][\"date\"]}', fontsize=14)\n        ax2.set_xlabel('Hour of Day', fontsize=12)\n        ax2.set_ylabel('Precipitation (mm)', fontsize=12)\n        ax2.grid(True, alpha=0.3)\n        ax2.set_xlim(0, 21)\n        \n        # Add precipitation intensity labels\n        max_precip = max(hourly_precip) if hourly_precip else 0\n        if max_precip > 10:\n            intensity = \"Heavy Rain\"\n            color = \"red\"\n        elif max_precip > 2.5:\n            intensity = \"Moderate Rain\"\n            color = \"orange\"\n        elif max_precip > 0.1:\n            intensity = \"Light Rain\"\n            color = \"green\"\n        else:\n            intensity = \"No Rain\"\n            color = \"gray\"\n        \n        ax2.text(0.02, 0.98, f'Intensity: {intensity}', transform=ax2.transAxes,\n                fontsize=12, fontweight='bold', color=color,\n                verticalalignment='top', bbox=dict(boxstyle='round', facecolor='white', alpha=0.8))\n    \n    else:\n        ax2.text(0.5, 0.5, 'Hourly precipitation data not available', \n                transform=ax2.transAxes, ha='center', va='center', fontsize=12)\n        ax2.set_title('Hourly Precipitation - Data Not Available', fontsize=14)\n    \n    plt.tight_layout()\n    \n    if output_type == 'figure':\n        return fig\n    else:\n        plt.show()\n        return None",
   "metadata": {
    "id": "HpOlQylYG5Ho"
   },
   "id": "HpOlQylYG5Ho",
   "execution_count": null,
   "outputs": []
  },
  {
   "cell_type": "markdown",
   "id": "9f95d160",
   "metadata": {
    "id": "9f95d160"
   },
   "source": [
    "## 🤖 Natural Language Processing"
   ]
  },
  {
   "cell_type": "code",
   "execution_count": null,
   "id": "bcc5833e",
   "metadata": {
    "id": "bcc5833e"
   },
   "outputs": [],
   "source": "import re\nfrom datetime import datetime, timedelta\n\ndef parse_weather_question(question):\n    \"\"\"\n    Parse a natural language weather question.\n\n    Args:\n        question (str): User's weather-related question\n\n    Returns:\n        dict: Extracted information including location, time period, and weather attribute\n    \"\"\"\n    question_lower = question.lower()\n    \n    # Initialize result dictionary\n    parsed = {\n        'location': None,\n        'time_period': 'today',\n        'weather_attribute': 'general',\n        'question_type': 'general',\n        'original_question': question\n    }\n    \n    # Extract location using common patterns\n    location_patterns = [\n        r'in ([A-Za-z\\s]+?)(?:\\s|$|\\?|,)',\n        r'for ([A-Za-z\\s]+?)(?:\\s|$|\\?|,)',\n        r'at ([A-Za-z\\s]+?)(?:\\s|$|\\?|,)',\n        r'([A-Za-z]+(?:\\s+[A-Za-z]+)*)',  # Fallback: any sequence of words\n    ]\n    \n    # Remove common weather words to better isolate location\n    weather_words = ['weather', 'temperature', 'rain', 'snow', 'wind', 'cloudy', 'sunny', \n                    'today', 'tomorrow', 'will', 'be', 'like', 'hot', 'cold', 'warm',\n                    'forecast', 'precipitation', 'humidity', 'pressure']\n    \n    question_cleaned = question_lower\n    for word in weather_words:\n        question_cleaned = re.sub(r'\\b' + word + r'\\b', '', question_cleaned)\n    \n    # Look for location\n    for pattern in location_patterns:\n        match = re.search(pattern, question_cleaned)\n        if match:\n            location = match.group(1).strip()\n            if location and len(location) > 1:\n                parsed['location'] = location.title()\n                break\n    \n    # Extract time period\n    if any(word in question_lower for word in ['tomorrow', 'next day']):\n        parsed['time_period'] = 'tomorrow'\n    elif any(word in question_lower for word in ['today', 'now', 'current']):\n        parsed['time_period'] = 'today'\n    elif any(word in question_lower for word in ['week', 'days', 'forecast']):\n        parsed['time_period'] = 'week'\n    elif re.search(r'\\d+\\s*day', question_lower):\n        match = re.search(r'(\\d+)\\s*day', question_lower)\n        if match:\n            parsed['time_period'] = f'{match.group(1)}_days'\n    \n    # Extract weather attribute\n    if any(word in question_lower for word in ['temperature', 'temp', 'hot', 'cold', 'warm', 'cool']):\n        parsed['weather_attribute'] = 'temperature'\n    elif any(word in question_lower for word in ['rain', 'precipitation', 'shower', 'drizzle']):\n        parsed['weather_attribute'] = 'precipitation'\n    elif any(word in question_lower for word in ['wind', 'windy', 'breeze']):\n        parsed['weather_attribute'] = 'wind'\n    elif any(word in question_lower for word in ['humidity', 'humid']):\n        parsed['weather_attribute'] = 'humidity'\n    elif any(word in question_lower for word in ['pressure', 'atmospheric']):\n        parsed['weather_attribute'] = 'pressure'\n    elif any(word in question_lower for word in ['cloudy', 'clouds', 'overcast', 'sunny', 'clear']):\n        parsed['weather_attribute'] = 'conditions'\n    \n    # Determine question type\n    if any(word in question_lower for word in ['will', 'going to', 'forecast']):\n        parsed['question_type'] = 'forecast'\n    elif any(word in question_lower for word in ['is', 'current', 'now', 'today']):\n        parsed['question_type'] = 'current'\n    elif any(word in question_lower for word in ['should', 'good for', 'recommend']):\n        parsed['question_type'] = 'advisory'\n    \n    return parsed\n\ndef generate_weather_response(parsed_question, weather_data):\n    \"\"\"\n    Generate a natural language response to a weather question.\n\n    Args:\n        parsed_question (dict): Parsed question data\n        weather_data (dict): Weather data\n\n    Returns:\n        str: Natural language response\n    \"\"\"\n    if 'error' in weather_data:\n        return f\"Sorry, I couldn't get weather information for {parsed_question.get('location', 'that location')}. {weather_data['error']}\"\n    \n    location = weather_data['location']\n    current = weather_data['current']\n    forecast = weather_data['forecast']\n    \n    # Get the requested information based on time period and attribute\n    time_period = parsed_question.get('time_period', 'today')\n    attribute = parsed_question.get('weather_attribute', 'general')\n    question_type = parsed_question.get('question_type', 'general')\n    \n    response_parts = []\n    \n    # Handle different time periods\n    if time_period == 'today' or question_type == 'current':\n        if attribute == 'temperature':\n            temp = current.get('temperature', 0)\n            feels_like = current.get('feels_like', 0)\n            response_parts.append(f\"Currently in {location}, it's {temp}°C (feels like {feels_like}°C).\")\n        \n        elif attribute == 'precipitation':\n            # Check today's forecast for precipitation\n            today_precip = forecast[0].get('precipitation', 0) if forecast else 0\n            if today_precip > 0:\n                response_parts.append(f\"There's precipitation expected today in {location} with up to {today_precip}mm of rain.\")\n            else:\n                response_parts.append(f\"No precipitation is expected today in {location}.\")\n        \n        elif attribute == 'wind':\n            wind_speed = current.get('wind_speed', 0)\n            wind_dir = current.get('wind_direction', 'N')\n            response_parts.append(f\"Wind in {location} is currently {wind_speed} km/h from the {wind_dir}.\")\n        \n        elif attribute == 'humidity':\n            humidity = current.get('humidity', 0)\n            response_parts.append(f\"The humidity in {location} is currently {humidity}%.\")\n        \n        else:  # general conditions\n            temp = current.get('temperature', 0)\n            desc = current.get('description', 'Unknown')\n            response_parts.append(f\"In {location}, it's currently {temp}°C with {desc.lower()}.\")\n    \n    elif time_period == 'tomorrow':\n        if len(forecast) > 1:\n            tomorrow = forecast[1]\n            if attribute == 'temperature':\n                max_temp = tomorrow.get('max_temp', 0)\n                min_temp = tomorrow.get('min_temp', 0)\n                response_parts.append(f\"Tomorrow in {location}, temperatures will range from {min_temp}°C to {max_temp}°C.\")\n            \n            elif attribute == 'precipitation':\n                precip = tomorrow.get('precipitation', 0)\n                if precip > 0:\n                    response_parts.append(f\"Tomorrow in {location}, expect up to {precip}mm of precipitation.\")\n                else:\n                    response_parts.append(f\"No precipitation expected tomorrow in {location}.\")\n            \n            else:  # general\n                max_temp = tomorrow.get('max_temp', 0)\n                min_temp = tomorrow.get('min_temp', 0)\n                desc = tomorrow.get('description', 'Unknown')\n                response_parts.append(f\"Tomorrow in {location}: {desc.lower()}, {min_temp}°C to {max_temp}°C.\")\n        else:\n            response_parts.append(f\"Sorry, I don't have tomorrow's forecast for {location}.\")\n    \n    elif time_period == 'week' or 'days' in time_period:\n        if forecast:\n            if attribute == 'temperature':\n                temps = [day.get('max_temp', 0) for day in forecast]\n                avg_max = sum(temps) / len(temps) if temps else 0\n                response_parts.append(f\"Over the next {len(forecast)} days in {location}, average high temperature will be around {avg_max:.1f}°C.\")\n            \n            elif attribute == 'precipitation':\n                total_precip = sum(day.get('precipitation', 0) for day in forecast)\n                rainy_days = sum(1 for day in forecast if day.get('precipitation', 0) > 0.1)\n                response_parts.append(f\"In the {len(forecast)}-day forecast for {location}, expect {total_precip:.1f}mm total precipitation over {rainy_days} rainy days.\")\n            \n            else:  # general forecast\n                response_parts.append(f\"Here's the {len(forecast)}-day forecast for {location}:\")\n                for i, day in enumerate(forecast[:3]):  # Show first 3 days\n                    date = day.get('date', f'Day {i+1}')\n                    max_temp = day.get('max_temp', 0)\n                    min_temp = day.get('min_temp', 0)\n                    desc = day.get('description', 'Unknown')\n                    response_parts.append(f\"• {date}: {desc.lower()}, {min_temp}°C to {max_temp}°C\")\n        else:\n            response_parts.append(f\"Sorry, I don't have extended forecast data for {location}.\")\n    \n    # Add advisory information if requested\n    if question_type == 'advisory':\n        current_temp = current.get('temperature', 0)\n        if current_temp > 25:\n            response_parts.append(\"It's quite warm - consider light clothing and stay hydrated!\")\n        elif current_temp < 5:\n            response_parts.append(\"It's cold - dress warmly and be careful of icy conditions!\")\n        \n        # Check for precipitation\n        today_precip = forecast[0].get('precipitation', 0) if forecast else 0\n        if today_precip > 5:\n            response_parts.append(\"Significant rain expected - bring an umbrella!\")\n    \n    return ' '.join(response_parts) if response_parts else f\"I have weather data for {location}, but couldn't determine what specific information you're looking for.\""
  },
  {
   "cell_type": "markdown",
   "id": "0d85225e",
   "metadata": {
    "id": "0d85225e"
   },
   "source": [
    "## 🧭 User Interface"
   ]
  },
  {
   "cell_type": "code",
   "execution_count": null,
   "id": "fa6cb0f6",
   "metadata": {
    "id": "fa6cb0f6"
   },
   "outputs": [],
   "source": "def display_weather_summary(weather_data):\n    \"\"\"Display a formatted weather summary.\"\"\"\n    if 'error' in weather_data:\n        print(f\"❌ Error: {weather_data['error']}\")\n        return\n    \n    location = weather_data['location']\n    current = weather_data['current']\n    \n    print(f\"\\n🌤️  Current Weather in {location}\")\n    print(\"=\" * 50)\n    print(f\"Temperature: {current.get('temperature', 0)}°C (feels like {current.get('feels_like', 0)}°C)\")\n    print(f\"Conditions: {current.get('description', 'Unknown')}\")\n    print(f\"Humidity: {current.get('humidity', 0)}%\")\n    print(f\"Wind: {current.get('wind_speed', 0)} km/h {current.get('wind_direction', 'N')}\")\n    print(f\"Pressure: {current.get('pressure', 0)} hPa\")\n    print(f\"Visibility: {current.get('visibility', 0)} km\")\n\ndef main_menu():\n    \"\"\"Main menu interface for the Weather Advisor application.\"\"\"\n    print(\"\\n🌦️  Welcome to WeatherWise - Your Intelligent Weather Advisor!\")\n    print(\"=\" * 60)\n    \n    while True:\n        print(\"\\n📋 Main Menu:\")\n        print(\"1. Get weather forecast with visualizations\")\n        print(\"2. Ask a weather question in natural language\")\n        print(\"3. Compare weather for multiple locations\")\n        print(\"4. Exit\")\n        \n        try:\n            choice = pyip.inputMenu(['1', '2', '3', '4'], \n                                  prompt=\"Please select an option (1-4): \",\n                                  numbered=False)\n            \n            if choice == '1':\n                weather_forecast_menu()\n            elif choice == '2':\n                natural_language_menu()\n            elif choice == '3':\n                compare_locations_menu()\n            elif choice == '4':\n                print(\"\\n👋 Thank you for using WeatherWise! Stay safe and dry!\")\n                break\n                \n        except KeyboardInterrupt:\n            print(\"\\n👋 Goodbye!\")\n            break\n        except Exception as e:\n            print(f\"❌ An error occurred: {e}\")\n\ndef weather_forecast_menu():\n    \"\"\"Weather forecast menu with visualization options.\"\"\"\n    print(\"\\n🌤️  Weather Forecast & Visualization\")\n    print(\"=\" * 40)\n    \n    # Get location\n    location = pyip.inputStr(\"Enter city name: \", strip=True)\n    \n    # Get forecast duration\n    days = pyip.inputInt(\"Number of forecast days (1-5): \", \n                        min=1, max=5, default=5)\n    \n    print(f\"\\n🔄 Fetching weather data for {location}...\")\n    weather_data = get_weather_data(location, days)\n    \n    if 'error' in weather_data:\n        print(f\"❌ {weather_data['error']}\")\n        return\n    \n    # Display summary\n    display_weather_summary(weather_data)\n    \n    # Show forecast\n    print(f\"\\n📅 {days}-Day Forecast:\")\n    print(\"-\" * 40)\n    for day in weather_data['forecast']:\n        print(f\"{day['date']}: {day['min_temp']}°C to {day['max_temp']}°C, {day['description']}\")\n        if day['precipitation'] > 0:\n            print(f\"           Precipitation: {day['precipitation']}mm\")\n    \n    # Visualization options\n    print(\"\\n📊 Visualization Options:\")\n    vis_choice = pyip.inputMenu(['Temperature trends', 'Precipitation forecast', 'Both', 'Skip'],\n                               prompt=\"What would you like to visualize? \",\n                               numbered=True)\n    \n    if vis_choice in ['Temperature trends', 'Both']:\n        print(\"\\n📈 Generating temperature visualization...\")\n        create_temperature_visualisation(weather_data)\n    \n    if vis_choice in ['Precipitation forecast', 'Both']:\n        print(\"\\n🌧️  Generating precipitation visualization...\")\n        create_precipitation_visualisation(weather_data)\n    \n    input(\"\\nPress Enter to return to main menu...\")\n\ndef natural_language_menu():\n    \"\"\"Natural language question interface.\"\"\"\n    print(\"\\n🤖 Natural Language Weather Assistant\")\n    print(\"=\" * 45)\n    print(\"Ask me anything about the weather! Examples:\")\n    print(\"• 'What's the weather like in Paris?'\")\n    print(\"• 'Will it rain tomorrow in London?'\")\n    print(\"• 'How hot will it be in Tokyo this week?'\")\n    print(\"• Type 'back' to return to main menu\")\n    \n    while True:\n        print(\"\\n\" + \"-\" * 45)\n        question = pyip.inputStr(\"Your weather question: \", strip=True)\n        \n        if question.lower() in ['back', 'return', 'menu']:\n            break\n        \n        print(f\"\\n🔍 Analyzing your question...\")\n        parsed = parse_weather_question(question)\n        \n        # If no location detected, ask for it\n        if not parsed['location']:\n            location = pyip.inputStr(\"I couldn't detect a location. Please specify: \", strip=True)\n            parsed['location'] = location\n        \n        print(f\"🔄 Getting weather data for {parsed['location']}...\")\n        weather_data = get_weather_data(parsed['location'])\n        \n        response = generate_weather_response(parsed, weather_data)\n        print(f\"\\n🤖 Weather Assistant: {response}\")\n        \n        # Offer to show visualizations\n        if 'error' not in weather_data:\n            show_viz = pyip.inputYesNo(\"\\nWould you like to see weather visualizations? \")\n            if show_viz == 'yes':\n                viz_type = pyip.inputMenu(['Temperature', 'Precipitation', 'Both'],\n                                        prompt=\"What type of visualization? \",\n                                        numbered=True)\n                \n                if viz_type in ['Temperature', 'Both']:\n                    create_temperature_visualisation(weather_data)\n                if viz_type in ['Precipitation', 'Both']:\n                    create_precipitation_visualisation(weather_data)\n\ndef compare_locations_menu():\n    \"\"\"Compare weather between multiple locations.\"\"\"\n    print(\"\\n🌍 Weather Comparison Tool\")\n    print(\"=\" * 35)\n    \n    locations = []\n    while len(locations) < 2:\n        location = pyip.inputStr(f\"Enter location {len(locations) + 1}: \", strip=True)\n        locations.append(location)\n    \n    # Ask if they want to add more locations\n    while len(locations) < 5:\n        add_more = pyip.inputYesNo(f\"Add another location? (Current: {len(locations)}) \")\n        if add_more == 'no':\n            break\n        location = pyip.inputStr(f\"Enter location {len(locations) + 1}: \", strip=True)\n        locations.append(location)\n    \n    print(f\"\\n🔄 Fetching weather data for {len(locations)} locations...\")\n    \n    # Get weather data for all locations\n    weather_comparison = []\n    for location in locations:\n        data = get_weather_data(location, 3)  # 3-day forecast\n        weather_comparison.append(data)\n    \n    # Display comparison\n    print(\"\\n🌤️  Weather Comparison\")\n    print(\"=\" * 60)\n    \n    # Current conditions comparison\n    print(\"\\n📊 Current Conditions:\")\n    print(f\"{'Location':<15} {'Temp':<8} {'Feels Like':<12} {'Conditions':<20}\")\n    print(\"-\" * 60)\n    \n    for data in weather_comparison:\n        if 'error' not in data:\n            current = data['current']\n            location = data['location'][:14]  # Truncate long names\n            temp = f\"{current.get('temperature', 0)}°C\"\n            feels_like = f\"{current.get('feels_like', 0)}°C\"\n            conditions = current.get('description', 'Unknown')[:19]\n            print(f\"{location:<15} {temp:<8} {feels_like:<12} {conditions:<20}\")\n        else:\n            print(f\"{data['location'][:14]:<15} Error fetching data\")\n    \n    # Tomorrow's forecast comparison\n    print(\"\\n📅 Tomorrow's Forecast:\")\n    print(f\"{'Location':<15} {'Low/High':<12} {'Conditions':<20} {'Rain':<8}\")\n    print(\"-\" * 60)\n    \n    for data in weather_comparison:\n        if 'error' not in data and len(data['forecast']) > 1:\n            tomorrow = data['forecast'][1]\n            location = data['location'][:14]\n            temp_range = f\"{tomorrow['min_temp']}-{tomorrow['max_temp']}°C\"\n            conditions = tomorrow['description'][:19]\n            rain = f\"{tomorrow['precipitation']}mm\" if tomorrow['precipitation'] > 0 else \"None\"\n            print(f\"{location:<15} {temp_range:<12} {conditions:<20} {rain:<8}\")\n    \n    input(\"\\nPress Enter to return to main menu...\")"
  },
  {
   "cell_type": "markdown",
   "id": "d643a53c",
   "metadata": {
    "id": "d643a53c"
   },
   "source": [
    "## 🧩 Main Application Logic"
   ]
  },
  {
   "cell_type": "code",
   "execution_count": null,
   "id": "a9e2e805",
   "metadata": {
    "id": "a9e2e805"
   },
   "outputs": [],
   "source": "# Main application execution\nif __name__ == \"__main__\":\n    try:\n        main_menu()\n    except Exception as e:\n        print(f\"❌ Application error: {e}\")\n        print(\"Please restart the application.\")"
  },
  {
   "cell_type": "markdown",
   "id": "fde44479",
   "metadata": {
    "id": "fde44479"
   },
   "source": [
    "## 🧪 Testing and Examples"
   ]
  },
  {
   "cell_type": "code",
   "execution_count": null,
   "id": "4e573901",
   "metadata": {
    "id": "4e573901"
   },
   "outputs": [],
   "source": "# Example usage and testing\nprint(\"🧪 Testing WeatherWise Functions\")\nprint(\"=\" * 40)\n\n# Test 1: Get weather data\nprint(\"\\n1. Testing get_weather_data function:\")\ntest_location = \"London\"\nprint(f\"Getting weather for {test_location}...\")\nsample_weather = get_weather_data(test_location, 3)\n\nif 'error' not in sample_weather:\n    print(\"✅ Weather data retrieved successfully!\")\n    print(f\"Location: {sample_weather['location']}\")\n    print(f\"Current temperature: {sample_weather['current']['temperature']}°C\")\n    print(f\"Forecast days: {len(sample_weather['forecast'])}\")\nelse:\n    print(f\"❌ Error: {sample_weather['error']}\")\n\n# Test 2: Parse natural language question\nprint(\"\\n2. Testing parse_weather_question function:\")\ntest_questions = [\n    \"What's the weather like in Paris?\",\n    \"Will it rain tomorrow in Tokyo?\",\n    \"How hot will it be in New York this week?\"\n]\n\nfor question in test_questions:\n    parsed = parse_weather_question(question)\n    print(f\"\\nQ: '{question}'\")\n    print(f\"   Location: {parsed['location']}\")\n    print(f\"   Time: {parsed['time_period']}\")\n    print(f\"   Attribute: {parsed['weather_attribute']}\")\n\n# Test 3: Generate response (if weather data is available)\nif 'error' not in sample_weather:\n    print(\"\\n3. Testing generate_weather_response function:\")\n    test_parsed = {\n        'location': 'London',\n        'time_period': 'today',\n        'weather_attribute': 'temperature',\n        'question_type': 'current'\n    }\n    response = generate_weather_response(test_parsed, sample_weather)\n    print(f\"Response: {response}\")\n\nprint(\"\\n✅ Function testing completed!\")\nprint(\"\\n🚀 Ready to run the full application!\")\nprint(\"Execute the cell above to start the WeatherWise application.\")"
  },
  {
   "cell_type": "markdown",
   "id": "d2885880",
   "metadata": {
    "id": "d2885880"
   },
   "source": [
    "## 🗂️ AI Prompting Log (Optional)\n",
    "Add markdown cells here summarising prompts used or link to AI conversations in the `ai-conversations/` folder."
   ]
  }
 ],
 "metadata": {
  "language_info": {
   "name": "python"
  },
  "colab": {
   "provenance": [],
   "include_colab_link": true
  }
 },
 "nbformat": 4,
 "nbformat_minor": 5
}